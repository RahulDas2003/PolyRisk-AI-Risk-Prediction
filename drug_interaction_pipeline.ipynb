{
 "cells": [
  {
   "cell_type": "markdown",
   "id": "3c8e4b5f",
   "metadata": {},
   "source": [
    "# Drug Interaction and Side Effect Integration Pipeline\n",
    "\n",
    "This notebook builds a dataset that integrates DrugBank, SIDER, and TWOSIDES.\n",
    "\n",
    "### Steps:\n",
    "1. Load DrugBank filtered dataset (DrugBank ID + Name).\n",
    "2. Map DrugBank drugs to STITCH IDs.\n",
    "   - If a DrugBank ↔ STITCH mapping file is provided, use it.\n",
    "   - Otherwise, attempt name-based fuzzy matching.\n",
    "3. Integrate **SIDER**:\n",
    "   - For each drug, extract all `MedDRA_term` side effects.\n",
    "4. Integrate **TWOSIDES**:\n",
    "   - For each drug pair, if `(STITCH1, STITCH2)` exists, extract polypharmacy side effects.\n",
    "5. Build a final dataset with:\n",
    "   - `drug1` (DrugBank Name)\n",
    "   - `drug2` (DrugBank Name)\n",
    "   - `possible_interactions` (sources such as `twosides_pair_signals`)\n",
    "   - `sideeffects` (merged side effect terms)\n"
   ]
  },
  {
   "cell_type": "code",
   "execution_count": 1,
   "id": "8e2366eb",
   "metadata": {},
   "outputs": [
    {
     "data": {
      "text/plain": [
       "(  DrugBank ID                 Name\n",
       " 0     DB00001            Lepirudin\n",
       " 1     DB00002            Cetuximab\n",
       " 2     DB00003         Dornase alfa\n",
       " 3     DB00004  Denileukin diftitox\n",
       " 4     DB00005           Etanercept,\n",
       "   STITCH_compound_ID_flat  STITCH_compound_ID_stereo  UMLS_concept_ID  \\\n",
       " 0            CID100000085               CID000010917         C0000729   \n",
       " 1            CID100000085               CID000010917         C0000729   \n",
       " 2            CID100000085               CID000010917         C0000737   \n",
       " 3            CID100000085               CID000010917         C0000737   \n",
       " 4            CID100000085               CID000010917         C0000737   \n",
       " \n",
       "    MedDRA_type  MedDRA_concept_ID            MedDRA_term  \n",
       " 0          LLT           C0000729       Abdominal cramps  \n",
       " 1           PT           C0000737         Abdominal pain  \n",
       " 2          LLT           C0000737         Abdominal pain  \n",
       " 3           PT           C0687713  Gastrointestinal pain  \n",
       " 4           PT           C0000737         Abdominal pain  ,\n",
       "        STITCH 1      STITCH 2 Polypharmacy Side Effect  \\\n",
       " 0  CID000002173  CID000003345                 C0151714   \n",
       " 1  CID000002173  CID000003345                 C0035344   \n",
       " 2  CID000002173  CID000003345                 C0004144   \n",
       " 3  CID000002173  CID000003345                 C0002063   \n",
       " 4  CID000002173  CID000003345                 C0004604   \n",
       " \n",
       "              Side Effect Name  \n",
       " 0             hypermagnesemia  \n",
       " 1  retinopathy of prematurity  \n",
       " 2                 atelectasis  \n",
       " 3                   alkalosis  \n",
       " 4                   Back Ache  )"
      ]
     },
     "execution_count": 1,
     "metadata": {},
     "output_type": "execute_result"
    }
   ],
   "source": [
    "import pandas as pd\n",
    "from tqdm import tqdm\n",
    "from itertools import combinations\n",
    "import difflib\n",
    "\n",
    "# Load datasets\n",
    "drugbank = pd.read_csv('data/processed/drugbank_filtered.csv')\n",
    "sider = pd.read_csv('data/sider.csv')\n",
    "twosides = pd.read_csv('data/twosides.csv')\n",
    "\n",
    "drugbank.head(), sider.head(), twosides.head()"
   ]
  },
  {
   "cell_type": "markdown",
   "id": "7363552c",
   "metadata": {},
   "source": [
    "## Step 1: Build DrugBank → STITCH mapping\n",
    "\n",
    "If you have a mapping file, load it here. If not, we'll attempt name-based fuzzy matching."
   ]
  },
  {
   "cell_type": "code",
   "execution_count": 2,
   "id": "cc0ca913",
   "metadata": {},
   "outputs": [
    {
     "name": "stderr",
     "output_type": "stream",
     "text": [
      "100%|██████████| 17430/17430 [00:00<00:00, 61519.47it/s]\n"
     ]
    },
    {
     "data": {
      "text/plain": [
       "17430"
      ]
     },
     "execution_count": 2,
     "metadata": {},
     "output_type": "execute_result"
    }
   ],
   "source": [
    "# Placeholder for mapping file\n",
    "# Example: mapping = pd.read_csv('drugbank_stitch_mapping.csv')\n",
    "mapping = None\n",
    "\n",
    "if mapping is not None:\n",
    "    drug_to_stitch = dict(zip(mapping['DrugBank ID'], mapping['STITCH_ID']))\n",
    "else:\n",
    "    # fallback: use fuzzy name matching with SIDER STITCH names\n",
    "    sider_drugs = sider[['STITCH_compound_ID_flat']].drop_duplicates()\n",
    "    drug_to_stitch = {}\n",
    "    for _, row in tqdm(drugbank.iterrows(), total=len(drugbank)):\n",
    "        name = row['Name']\n",
    "        # Here we only demonstrate placeholder: ideally use external name dictionaries\n",
    "        # For now, we map nothing (to be replaced by your mapping method)\n",
    "        drug_to_stitch[row['DrugBank ID']] = None\n",
    "\n",
    "len(drug_to_stitch)"
   ]
  },
  {
   "cell_type": "markdown",
   "id": "d10fbfe3",
   "metadata": {},
   "source": [
    "## Step 2: Integrate SIDER side effects per drug"
   ]
  },
  {
   "cell_type": "code",
   "execution_count": 4,
   "id": "bc3fbac5",
   "metadata": {},
   "outputs": [
    {
     "name": "stdout",
     "output_type": "stream",
     "text": [
      "Mapped 1430 drugs to side effects\n"
     ]
    }
   ],
   "source": [
    "sider_map = {}\n",
    "\n",
    "# Ensure consistent column names (strip spaces etc.)\n",
    "sider.columns = sider.columns.str.strip()\n",
    "\n",
    "for _, row in sider.iterrows():\n",
    "    stitch_id = row['STITCH_compound_ID_flat']\n",
    "    se = row['MedDRA_term']\n",
    "    if pd.notna(stitch_id) and pd.notna(se):\n",
    "        sider_map.setdefault(stitch_id, set()).add(se)\n",
    "\n",
    "print(f\"Mapped {len(sider_map)} drugs to side effects\")\n"
   ]
  },
  {
   "cell_type": "markdown",
   "id": "3c7f546d",
   "metadata": {},
   "source": [
    "## Step 3: Integrate TWOSIDES side effects per drug pair"
   ]
  },
  {
   "cell_type": "code",
   "execution_count": 5,
   "id": "f4e0e626",
   "metadata": {},
   "outputs": [
    {
     "name": "stderr",
     "output_type": "stream",
     "text": [
      "100%|██████████| 4649441/4649441 [01:45<00:00, 44077.51it/s]\n"
     ]
    },
    {
     "data": {
      "text/plain": [
       "63473"
      ]
     },
     "execution_count": 5,
     "metadata": {},
     "output_type": "execute_result"
    }
   ],
   "source": [
    "twosides_map = {}\n",
    "for _, row in tqdm(twosides.iterrows(), total=len(twosides)):\n",
    "    d1, d2, se = row['STITCH 1'], row['STITCH 2'], row['Side Effect Name']\n",
    "    key = tuple(sorted([d1, d2]))\n",
    "    if pd.notna(se):\n",
    "        twosides_map.setdefault(key, set()).add(se)\n",
    "\n",
    "len(twosides_map)"
   ]
  },
  {
   "cell_type": "markdown",
   "id": "7d10afbe",
   "metadata": {},
   "source": [
    "## Step 4: Build final annotated dataset\n",
    "Merge DrugBank names with SIDER/TWOSIDES signals."
   ]
  },
  {
   "cell_type": "code",
   "execution_count": 8,
   "id": "760d5e42",
   "metadata": {},
   "outputs": [
    {
     "data": {
      "text/html": [
       "<div>\n",
       "<style scoped>\n",
       "    .dataframe tbody tr th:only-of-type {\n",
       "        vertical-align: middle;\n",
       "    }\n",
       "\n",
       "    .dataframe tbody tr th {\n",
       "        vertical-align: top;\n",
       "    }\n",
       "\n",
       "    .dataframe thead th {\n",
       "        text-align: right;\n",
       "    }\n",
       "</style>\n",
       "<table border=\"1\" class=\"dataframe\">\n",
       "  <thead>\n",
       "    <tr style=\"text-align: right;\">\n",
       "      <th></th>\n",
       "      <th>drug1</th>\n",
       "      <th>drug2</th>\n",
       "      <th>possible_interactions</th>\n",
       "      <th>sideeffects</th>\n",
       "    </tr>\n",
       "  </thead>\n",
       "  <tbody>\n",
       "    <tr>\n",
       "      <th>0</th>\n",
       "      <td>Lepirudin</td>\n",
       "      <td>Cetuximab</td>\n",
       "      <td></td>\n",
       "      <td></td>\n",
       "    </tr>\n",
       "    <tr>\n",
       "      <th>1</th>\n",
       "      <td>Lepirudin</td>\n",
       "      <td>Dornase alfa</td>\n",
       "      <td></td>\n",
       "      <td></td>\n",
       "    </tr>\n",
       "    <tr>\n",
       "      <th>2</th>\n",
       "      <td>Lepirudin</td>\n",
       "      <td>Denileukin diftitox</td>\n",
       "      <td></td>\n",
       "      <td></td>\n",
       "    </tr>\n",
       "    <tr>\n",
       "      <th>3</th>\n",
       "      <td>Lepirudin</td>\n",
       "      <td>Etanercept</td>\n",
       "      <td></td>\n",
       "      <td></td>\n",
       "    </tr>\n",
       "    <tr>\n",
       "      <th>4</th>\n",
       "      <td>Lepirudin</td>\n",
       "      <td>Bivalirudin</td>\n",
       "      <td></td>\n",
       "      <td></td>\n",
       "    </tr>\n",
       "  </tbody>\n",
       "</table>\n",
       "</div>"
      ],
      "text/plain": [
       "       drug1                drug2 possible_interactions sideeffects\n",
       "0  Lepirudin            Cetuximab                                  \n",
       "1  Lepirudin         Dornase alfa                                  \n",
       "2  Lepirudin  Denileukin diftitox                                  \n",
       "3  Lepirudin           Etanercept                                  \n",
       "4  Lepirudin          Bivalirudin                                  "
      ]
     },
     "execution_count": 8,
     "metadata": {},
     "output_type": "execute_result"
    }
   ],
   "source": [
    "output_rows = []\n",
    "drug_names = drugbank[['DrugBank ID','Name']]\n",
    "\n",
    "# Only iterate subset for demonstration (all pairs is too large)\n",
    "subset = drug_names.head(100)\n",
    "for (id1, name1), (id2, name2) in combinations(zip(subset['DrugBank ID'], subset['Name']), 2):\n",
    "    s1, s2 = drug_to_stitch.get(id1), drug_to_stitch.get(id2)\n",
    "    se_list = set()\n",
    "    notes = []\n",
    "    if s1 in sider_map:\n",
    "        se_list |= sider_map[s1]\n",
    "        notes.append('sider_individual_SEs')\n",
    "    if s2 in sider_map:\n",
    "        se_list |= sider_map[s2]\n",
    "        notes.append('sider_individual_SEs')\n",
    "    if s1 and s2:\n",
    "        key = tuple(sorted([s1, s2]))\n",
    "        if key in twosides_map:\n",
    "            se_list |= twosides_map[key]\n",
    "            notes.append('twosides_pair_signals')\n",
    "    output_rows.append({\n",
    "        'drug1': name1,\n",
    "        'drug2': name2,\n",
    "        'possible_interactions': ';'.join(set(notes)),\n",
    "        'sideeffects': '|'.join(set(se_list))\n",
    "    })\n",
    "\n",
    "final_df = pd.DataFrame(output_rows)\n",
    "final_df.to_csv('drug_interactions_annotated.csv', index=False)\n",
    "final_df.head()"
   ]
  },
  {
   "cell_type": "code",
   "execution_count": 4,
   "id": "e053207c",
   "metadata": {},
   "outputs": [
    {
     "name": "stdout",
     "output_type": "stream",
     "text": [
      "✅ Conversion complete! Saved as: C:/Users/rd773/Desktop/PolyRisk AI Risk Prediction/data/processed/chemicals.csv\n",
      "Total rows: 116224359\n",
      "Columns: ['chemical', 'name', 'molecular_weight', 'SMILES_string']\n"
     ]
    }
   ],
   "source": [
    "import pandas as pd\n",
    "\n",
    "# Input and output paths (✅ using /)\n",
    "input_path = \"C:/Users/rd773/Desktop/PolyRisk AI Risk Prediction/data/processed/chemicals.v5.0.tsv\"\n",
    "output_path = \"C:/Users/rd773/Desktop/PolyRisk AI Risk Prediction/data/processed/chemicals.csv\"\n",
    "\n",
    "# Read the TSV file\n",
    "df = pd.read_csv(input_path, sep=\"\\t\", encoding=\"utf-8\")\n",
    "\n",
    "# Save it as a CSV file\n",
    "df.to_csv(output_path, index=False)\n",
    "\n",
    "print(f\"✅ Conversion complete! Saved as: {output_path}\")\n",
    "print(f\"Total rows: {len(df)}\")\n",
    "print(f\"Columns: {list(df.columns)}\")\n"
   ]
  }
 ],
 "metadata": {
  "kernelspec": {
   "display_name": "Python 3",
   "language": "python",
   "name": "python3"
  },
  "language_info": {
   "codemirror_mode": {
    "name": "ipython",
    "version": 3
   },
   "file_extension": ".py",
   "mimetype": "text/x-python",
   "name": "python",
   "nbconvert_exporter": "python",
   "pygments_lexer": "ipython3",
   "version": "3.13.6"
  }
 },
 "nbformat": 4,
 "nbformat_minor": 5
}
